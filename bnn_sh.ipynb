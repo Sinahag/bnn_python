{
  "cells": [
    {
      "attachments": {},
      "cell_type": "markdown",
      "metadata": {
        "id": "IQCrdrk_Vr0x"
      },
      "source": [
        "## Working at 95% accuracy, model weights output and test image shown"
      ]
    },
    {
      "cell_type": "code",
      "execution_count": null,
      "metadata": {
        "id": "SIVjRK4CHeOM"
      },
      "outputs": [],
      "source": [
        "import tensorflow as tf\n",
        "import numpy as np\n",
        "import matplotlib.pyplot as plt\n",
        "\n",
        "# Load the MNIST dataset\n",
        "(x_train, y_train), (x_test, y_test) = tf.keras.datasets.mnist.load_data()\n",
        "x_train = x_train.astype('float32') / 255.0\n",
        "x_test = x_test.astype('float32') / 255.0\n",
        "\n",
        "# Preprocess the data\n",
        "x_train = x_train.reshape(-1, 28*28)\n",
        "x_test = x_test.reshape(-1, 28*28)\n",
        "y_train = tf.keras.utils.to_categorical(y_train, num_classes=10)\n",
        "y_test = tf.keras.utils.to_categorical(y_test, num_classes=10)\n",
        "\n",
        "# Define the binary neural network model\n",
        "model = tf.keras.models.Sequential([\n",
        "    tf.keras.layers.Dense(256, input_shape=(784,)),\n",
        "    tf.keras.layers.BatchNormalization(),\n",
        "    tf.keras.layers.Activation('relu'),\n",
        "    tf.keras.layers.Dense(128),\n",
        "    tf.keras.layers.BatchNormalization(),\n",
        "    tf.keras.layers.Activation('relu'),\n",
        "    tf.keras.layers.Dense(10, activation='softmax')\n",
        "])\n",
        "\n",
        "# Define the binary weights and activations\n",
        "binary_model = tf.keras.models.clone_model(model)\n",
        "binary_weights = binary_model.get_weights()\n",
        "for i in range(len(binary_weights)):\n",
        "    binary_weights[i] = np.where(binary_weights[i] >= 0, 1, -1)\n",
        "binary_model.set_weights(binary_weights)\n",
        "\n",
        "# Compile the model\n",
        "binary_model.compile(optimizer='adam', loss='binary_crossentropy', metrics=['accuracy'])\n",
        "\n",
        "# Train the model\n",
        "history = binary_model.fit(x_train, y_train, epochs=10, batch_size=128, validation_data=(x_test, y_test))\n",
        "\n",
        "# Print the accuracy of the model\n",
        "print(\"Test accuracy:\", history.history['val_accuracy'][-1])\n",
        "\n",
        "# Use the model to predict the digit for a test image\n",
        "test_image = x_test[1]\n",
        "test_image = np.expand_dims(test_image, axis=0)\n",
        "predicted_digit = np.argmax(binary_model.predict(test_image))\n",
        "\n",
        "\n",
        "print(\"Image Found:\")\n",
        "image=x_test[1]\n",
        "label = y_test[1]\n",
        "plt.imshow(image.reshape(28,28), cmap='gray')\n",
        "plt.title('Label: ' + str(label))\n",
        "plt.show()\n",
        "\n",
        "\n",
        "print(\"Predicted digit:\", predicted_digit)"
      ]
    },
    {
      "cell_type": "code",
      "execution_count": null,
      "metadata": {
        "id": "QMpSvB4sUAc3"
      },
      "outputs": [],
      "source": [
        "image_num = 0\n",
        "test_image = x_test[image_num]\n",
        "label = y_test[image_num]\n",
        "test_image = np.expand_dims(test_image, axis=0)\n",
        "predicted_digit = np.argmax(binary_model.predict(test_image))\n",
        "\n",
        "print(\"Image Found:\")\n",
        "plt.imshow(test_image.reshape(28,28), cmap='gray')\n",
        "plt.title('Label: ' + str(label))\n",
        "plt.show()\n",
        "\n",
        "print(\"Predicted digit:\", predicted_digit)"
      ]
    },
    {
      "cell_type": "code",
      "execution_count": null,
      "metadata": {
        "id": "Mwj71k9pT0zY"
      },
      "outputs": [],
      "source": [
        "# Print the binary weights of the model\n",
        "for layer in binary_model.layers:\n",
        "    if isinstance(layer, tf.keras.layers.Dense):\n",
        "        binary_weights = layer.get_weights()\n",
        "        binary_weights[0] = np.where(binary_weights[0] >= 0, 1, -1) # change the -1 to a 0 if you need the 0/1 binarized\n",
        "        layer.set_weights(binary_weights)\n",
        "        print(layer.get_weights()[0]) # gets the binarized output array at each layer\n",
        "        print(layer.get_weights()[0].shape) # prints the dimensions of the matrix"
      ]
    },
    {
      "cell_type": "code",
      "execution_count": null,
      "metadata": {
        "id": "0pybJvcR1E0N"
      },
      "outputs": [],
      "source": [
        "# Loop through the layers to find the BatchNormalization layers\n",
        "for layer in binary_model.layers:\n",
        "    if isinstance(layer, tf.keras.layers.BatchNormalization):\n",
        "\n",
        "        # Get the epsilon value of the layer\n",
        "        epsilon = layer.epsilon\n",
        "\n",
        "        # Get the gamma value of the layer\n",
        "        gamma = layer.gamma.numpy()\n",
        "\n",
        "        # Get the beta value of the layer\n",
        "        beta = layer.beta.numpy()\n",
        "\n",
        "        # Print the values\n",
        "        print(\"Epsilon:\", epsilon)\n",
        "        print(\"Gamma:\", gamma,\"size:\",gamma.shape)\n",
        "        print(\"Beta:\", beta,\"size:\",beta.shape)\n"
      ]
    },
    {
      "cell_type": "code",
      "execution_count": null,
      "metadata": {
        "id": "lvNVzid2RE3u"
      },
      "outputs": [],
      "source": [
        "# Compute the density matrix and save to MIF\n",
        "layer_num = 0\n",
        "for layer in binary_model.layers:\n",
        "    if isinstance(layer, tf.keras.layers.Dense):\n",
        "        binary_weights = layer.get_weights()\n",
        "        binary_weights[0] = np.where(binary_weights[0] >= 0, 1, 0) # change the second 0 to -1 for true binarized matrix\n",
        "        layer.set_weights(binary_weights)\n",
        "        density_matrix = np.matmul(binary_weights[0], binary_weights[0].T) / binary_weights[0].shape[1]\n",
        "\n",
        "        # Save the density matrix to a mif file\n",
        "        with open(f'density_matrix_{layer_num}.mif', 'w') as f:\n",
        "            f.write('DEPTH = {}\\n'.format(density_matrix.size))\n",
        "            f.write('WIDTH = 1\\n')\n",
        "            f.write('ADDRESS_RADIX = DEC\\n')\n",
        "            f.write('DATA_RADIX = HEX\\n')\n",
        "            f.write('CONTENT\\n')\n",
        "            f.write('BEGIN\\n')\n",
        "            address = 0\n",
        "            for i in range(density_matrix.shape[0]):\n",
        "                for j in range(density_matrix.shape[1]):\n",
        "                    hex_value = hex(int(density_matrix[i,j]*1024))[2:].zfill(4)\n",
        "                    for bit in range(len(hex_value)*4):\n",
        "                        bit_value = int(hex_value, 16) >> (len(hex_value)*4 - bit - 1) & 1\n",
        "                        f.write('{} : {}\\n'.format(address, bit_value))\n",
        "                        # print('{} : {}\\n'.format(address, bit_value), end = ' ')\n",
        "                        address += 1\n",
        "                # print(\"\")\n",
        "            f.write('END;\\n')\n",
        "\n",
        "        layer_num += 1\n"
      ]
    },
    {
      "cell_type": "code",
      "execution_count": null,
      "metadata": {
        "id": "8HHP-Vc9yFIh"
      },
      "outputs": [],
      "source": [
        "# Get the gamma, beta, and epsilon matrices from the model nad store in MIF\n",
        "layer_num = 0\n",
        "gamma, beta, epsilon = [], [], []\n",
        "for layer in model.layers:\n",
        "    if isinstance(layer, tf.keras.layers.BatchNormalization):\n",
        "        layer_num+=1\n",
        "        gamma=[]\n",
        "        beta=[]\n",
        "        gamma.append(layer.gamma.numpy())\n",
        "        beta.append(layer.beta.numpy())\n",
        "        epsilon=layer.epsilon\n",
        "\n",
        "        # Write gamma to a MIF file\n",
        "        with open(f'gamma_{layer_num}.mif', 'w') as f:\n",
        "            f.write('WIDTH = %d;\\n' % gamma[0].shape[0])\n",
        "            f.write('DEPTH = %d;\\n' % 1)\n",
        "            f.write('ADDRESS_RADIX = HEX;\\n')\n",
        "            f.write('DATA_RADIX = HEX;\\n')\n",
        "            f.write('CONTENT\\n')\n",
        "            f.write('BEGIN\\n')\n",
        "            for j in range(gamma[0].shape[0]):\n",
        "                f.write('%X : %X;\\n' % (i * gamma[0].shape[0] + j, np.uint16(gamma[0][j] * (2 ** 15 - 1))))\n",
        "            f.write('END;\\n')\n",
        "\n",
        "        # Write beta to a MIF file\n",
        "        with open(f'beta_{layer_num}.mif', 'w') as f:\n",
        "            f.write('WIDTH = %d;\\n' % beta[0].shape[0])\n",
        "            f.write('DEPTH = %d;\\n' % 1)\n",
        "            f.write('ADDRESS_RADIX = HEX;\\n')\n",
        "            f.write('DATA_RADIX = HEX;\\n')\n",
        "            f.write('CONTENT\\n')\n",
        "            f.write('BEGIN\\n')\n",
        "            for j in range(beta[0].shape[0]):\n",
        "                f.write('%X : %X;\\n' % (i * beta[0].shape[0] + j, np.uint16(beta[0][j] * (2 ** 15 - 1))))\n",
        "            f.write('END;\\n')\n",
        "\n",
        "        # Write epsilon to a MIF file\n",
        "        with open(f'epsilon_{layer_num}.mif', 'w') as f:\n",
        "            f.write('WIDTH = %d;\\n' % 32)\n",
        "            f.write('DEPTH = %d;\\n' % 1)\n",
        "            f.write('ADDRESS_RADIX = HEX;\\n')\n",
        "            f.write('DATA_RADIX = HEX;\\n')\n",
        "            f.write('CONTENT\\n')\n",
        "            f.write('BEGIN\\n')\n",
        "            f.write('0 : %X;\\n' % np.uint32(epsilon * (2 ** 15 - 1)))\n",
        "            f.write('END;\\n')\n"
      ]
    },
    {
      "cell_type": "code",
      "execution_count": null,
      "metadata": {
        "id": "grcV8XIkKLeJ"
      },
      "outputs": [],
      "source": [
        "# Extracting 10 MNIST dataset images to test our FPGA-Based Model\n",
        "import numpy as np\n",
        "\n",
        "# Load MNIST dataset\n",
        "(x_train, y_train), (x_test, y_test) = tf.keras.datasets.mnist.load_data()\n",
        "\n",
        "# Select 10 images\n",
        "images = x_train[:10]\n",
        "\n",
        "# Convert each image to MIF format\n",
        "for i, img in enumerate(images):\n",
        "    # Reshape image to 1D array\n",
        "    img = img.reshape(-1)\n",
        "\n",
        "    # Convert pixel values to hexadecimal\n",
        "    hex_values = ['{:02X}'.format(int(p * 255)) for p in img]\n",
        "\n",
        "    # Write MIF file\n",
        "    with open(f'image_{i}.mif', 'w') as f:\n",
        "        f.write('WIDTH=8;\\n')\n",
        "        f.write('DEPTH=784;\\n')\n",
        "        f.write('ADDRESS_RADIX=UNS;\\n')\n",
        "        f.write('DATA_RADIX=HEX;\\n')\n",
        "        f.write('CONTENT BEGIN\\n')\n",
        "        for j, hex_val in enumerate(hex_values):\n",
        "            f.write(f'{j} : {hex_val};\\n') # each address has its own pixel\n",
        "        f.write('END;\\n')"
      ]
    }
  ],
  "metadata": {
    "colab": {
      "provenance": []
    },
    "kernelspec": {
      "display_name": "Python 3",
      "name": "python3"
    },
    "language_info": {
      "codemirror_mode": {
        "name": "ipython",
        "version": 3
      },
      "file_extension": ".py",
      "mimetype": "text/x-python",
      "name": "python",
      "nbconvert_exporter": "python",
      "pygments_lexer": "ipython3",
      "version": "3.9.7"
    }
  },
  "nbformat": 4,
  "nbformat_minor": 0
}
